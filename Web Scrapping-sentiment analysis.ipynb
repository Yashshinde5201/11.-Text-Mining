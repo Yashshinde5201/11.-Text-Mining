{
 "cells": [
  {
   "cell_type": "markdown",
   "id": "dc147090",
   "metadata": {},
   "source": [
    "# TWO:\n",
    "1) Extract reviews of any product from ecommerce website like amazon\n",
    "\n",
    "2) Perform emotion mining"
   ]
  },
  {
   "cell_type": "code",
   "execution_count": 44,
   "id": "7072f78c",
   "metadata": {},
   "outputs": [],
   "source": [
    "import pandas as pd\n",
    "import requests\n",
    "from tqdm import tqdm_notebook\n",
    "from bs4 import BeautifulSoup"
   ]
  },
  {
   "cell_type": "code",
   "execution_count": 45,
   "id": "96fd3fa9",
   "metadata": {},
   "outputs": [],
   "source": [
    "#Looping through multiple pages\n",
    "def get_soup(url):\n",
    "    r = requests.get(url,\n",
    "    params={'url': url, 'wait': 2})\n",
    "    soup = BeautifulSoup(r.text, 'html.parser')\n",
    "    return soup"
   ]
  },
  {
   "cell_type": "code",
   "execution_count": 46,
   "id": "30cb5813",
   "metadata": {},
   "outputs": [],
   "source": [
    "# Initialize list to store reviews data later on\n",
    "reviewlist = []\n",
    "\n",
    "# Function 2: look for web-tags in our soup, then append our data to reviewList\n",
    "def get_reviews(soup):\n",
    "    reviews = soup.find_all('div', {'data-hook': 'review'})\n",
    "    try:\n",
    "        for item in reviews:\n",
    "            review = {\n",
    "            'product': soup.title.text.replace('Amazon.in:Customer reviews: ', '').strip(),    \n",
    "            'date': item.find('span', {'data-hook': 'review-date'}).text.replace('Reviewed in India on', '').strip(),\n",
    "            'title': item.find('a', {'data-hook': 'review-title'}).text.strip(),\n",
    "            'rating':  float(item.find('i', {'data-hook': 'review-star-rating'}).text.replace('out of 5 stars', '').strip()),\n",
    "            'body': item.find('span', {'data-hook': 'review-body'}).text.strip(),\n",
    "            }\n",
    "            reviewlist.append(review)\n",
    "    except:\n",
    "        pass"
   ]
  },
  {
   "cell_type": "code",
   "execution_count": 47,
   "id": "bcb98dcb",
   "metadata": {},
   "outputs": [
    {
     "name": "stderr",
     "output_type": "stream",
     "text": [
      "C:\\Users\\Anup sharma\\AppData\\Local\\Temp\\ipykernel_5364\\1309506063.py:2: TqdmDeprecationWarning: This function will be removed in tqdm==5.0.0\n",
      "Please use `tqdm.notebook.tqdm` instead of `tqdm.tqdm_notebook`\n",
      "  for x in tqdm_notebook(range(1,1000)):\n"
     ]
    },
    {
     "data": {
      "application/vnd.jupyter.widget-view+json": {
       "model_id": "2d912e4b2f964c4787259cf9b9554132",
       "version_major": 2,
       "version_minor": 0
      },
      "text/plain": [
       "  0%|          | 0/999 [00:00<?, ?it/s]"
      ]
     },
     "metadata": {},
     "output_type": "display_data"
    }
   ],
   "source": [
    "# loop through 1:x many pages, or until the css selector found only on the last page is found (when the next page button is greyed)\n",
    "for x in tqdm_notebook(range(1,1000)):\n",
    "    soup = get_soup(f'https://www.amazon.in/Samsung-Galaxy-Ultra-Green-Storage/dp/B0BT9CXXXX/ref=sr_1_1_sspa?crid=162SEXMCWJGMG&keywords=samsung+s23+ultra+5g&qid=1680609180&sprefix=samsung%2Caps%2C386&sr=8-1-spons&sp_csd=d2lkZ2V0TmFtZT1zcF9hdGY&psc=1={x}')\n",
    "    #print(f'Getting page: {x}')\n",
    "    get_reviews(soup)\n",
    "    #print(len(reviewlist))\n",
    "    if not soup.find('li', {'class': 'a-disabled a-last'}):\n",
    "        pass\n",
    "    else:\n",
    "        break"
   ]
  },
  {
   "cell_type": "code",
   "execution_count": 73,
   "id": "75e60b09",
   "metadata": {},
   "outputs": [
    {
     "data": {
      "text/html": [
       "<div>\n",
       "<style scoped>\n",
       "    .dataframe tbody tr th:only-of-type {\n",
       "        vertical-align: middle;\n",
       "    }\n",
       "\n",
       "    .dataframe tbody tr th {\n",
       "        vertical-align: top;\n",
       "    }\n",
       "\n",
       "    .dataframe thead th {\n",
       "        text-align: right;\n",
       "    }\n",
       "</style>\n",
       "<table border=\"1\" class=\"dataframe\">\n",
       "  <thead>\n",
       "    <tr style=\"text-align: right;\">\n",
       "      <th></th>\n",
       "      <th>product</th>\n",
       "      <th>date</th>\n",
       "      <th>title</th>\n",
       "      <th>rating</th>\n",
       "      <th>body</th>\n",
       "    </tr>\n",
       "  </thead>\n",
       "  <tbody>\n",
       "    <tr>\n",
       "      <th>0</th>\n",
       "      <td>Samsung Galaxy S23 Ultra 5G (Green, 12GB, 256G...</td>\n",
       "      <td>Reviewed in India 🇮🇳 on 8 March 2023</td>\n",
       "      <td>True flagship performance and excellent overal...</td>\n",
       "      <td>4.0</td>\n",
       "      <td>The media could not be loaded.\\n              ...</td>\n",
       "    </tr>\n",
       "    <tr>\n",
       "      <th>1</th>\n",
       "      <td>Samsung Galaxy S23 Ultra 5G (Green, 12GB, 256G...</td>\n",
       "      <td>Reviewed in India 🇮🇳 on 1 April 2023</td>\n",
       "      <td>Value for money</td>\n",
       "      <td>4.0</td>\n",
       "      <td>Best picture qualityFast charging missing\\nRea...</td>\n",
       "    </tr>\n",
       "    <tr>\n",
       "      <th>2</th>\n",
       "      <td>Samsung Galaxy S23 Ultra 5G (Green, 12GB, 256G...</td>\n",
       "      <td>Reviewed in India 🇮🇳 on 13 March 2023</td>\n",
       "      <td>I like it.. but not love it.</td>\n",
       "      <td>4.0</td>\n",
       "      <td>I bought it a week ago.. i upgraded  from my o...</td>\n",
       "    </tr>\n",
       "    <tr>\n",
       "      <th>3</th>\n",
       "      <td>Samsung Galaxy S23 Ultra 5G (Green, 12GB, 256G...</td>\n",
       "      <td>Reviewed in India 🇮🇳 on 28 February 2023</td>\n",
       "      <td>The perfect beast</td>\n",
       "      <td>5.0</td>\n",
       "      <td>This phone is a pefect upgrade from my old One...</td>\n",
       "    </tr>\n",
       "    <tr>\n",
       "      <th>4</th>\n",
       "      <td>Samsung Galaxy S23 Ultra 5G (Green, 12GB, 256G...</td>\n",
       "      <td>Reviewed in India 🇮🇳 on 19 March 2023</td>\n",
       "      <td>Best compact phone with all premium features</td>\n",
       "      <td>4.0</td>\n",
       "      <td>Phone does the job, with all the features work...</td>\n",
       "    </tr>\n",
       "    <tr>\n",
       "      <th>...</th>\n",
       "      <td>...</td>\n",
       "      <td>...</td>\n",
       "      <td>...</td>\n",
       "      <td>...</td>\n",
       "      <td>...</td>\n",
       "    </tr>\n",
       "    <tr>\n",
       "      <th>299</th>\n",
       "      <td>Samsung Galaxy S23 Ultra 5G (Green, 12GB, 256G...</td>\n",
       "      <td>Reviewed in India 🇮🇳 on 28 February 2023</td>\n",
       "      <td>The perfect beast</td>\n",
       "      <td>5.0</td>\n",
       "      <td>This phone is a pefect upgrade from my old One...</td>\n",
       "    </tr>\n",
       "    <tr>\n",
       "      <th>300</th>\n",
       "      <td>Samsung Galaxy S23 Ultra 5G (Green, 12GB, 256G...</td>\n",
       "      <td>Reviewed in India 🇮🇳 on 19 March 2023</td>\n",
       "      <td>Best compact phone with all premium features</td>\n",
       "      <td>4.0</td>\n",
       "      <td>Phone does the job, with all the features work...</td>\n",
       "    </tr>\n",
       "    <tr>\n",
       "      <th>301</th>\n",
       "      <td>Samsung Galaxy S23 Ultra 5G (Green, 12GB, 256G...</td>\n",
       "      <td>Reviewed in India 🇮🇳 on 24 March 2023</td>\n",
       "      <td>Product was good,  but amazon service was wors...</td>\n",
       "      <td>4.0</td>\n",
       "      <td>Product was good,  but amazon service was wors...</td>\n",
       "    </tr>\n",
       "    <tr>\n",
       "      <th>302</th>\n",
       "      <td>Samsung Galaxy S23 Ultra 5G (Green, 12GB, 256G...</td>\n",
       "      <td>Reviewed in India 🇮🇳 on 7 March 2023</td>\n",
       "      <td>Awesome 😎</td>\n",
       "      <td>4.0</td>\n",
       "      <td>Pros: excellent look and feel , I've always wa...</td>\n",
       "    </tr>\n",
       "    <tr>\n",
       "      <th>303</th>\n",
       "      <td>Samsung Galaxy S23 Ultra 5G (Green, 12GB, 256G...</td>\n",
       "      <td>Reviewed in India 🇮🇳 on 17 March 2023</td>\n",
       "      <td>Phone is great</td>\n",
       "      <td>4.0</td>\n",
       "      <td>Phone is great with performance but battery li...</td>\n",
       "    </tr>\n",
       "  </tbody>\n",
       "</table>\n",
       "<p>304 rows × 5 columns</p>\n",
       "</div>"
      ],
      "text/plain": [
       "                                               product  \\\n",
       "0    Samsung Galaxy S23 Ultra 5G (Green, 12GB, 256G...   \n",
       "1    Samsung Galaxy S23 Ultra 5G (Green, 12GB, 256G...   \n",
       "2    Samsung Galaxy S23 Ultra 5G (Green, 12GB, 256G...   \n",
       "3    Samsung Galaxy S23 Ultra 5G (Green, 12GB, 256G...   \n",
       "4    Samsung Galaxy S23 Ultra 5G (Green, 12GB, 256G...   \n",
       "..                                                 ...   \n",
       "299  Samsung Galaxy S23 Ultra 5G (Green, 12GB, 256G...   \n",
       "300  Samsung Galaxy S23 Ultra 5G (Green, 12GB, 256G...   \n",
       "301  Samsung Galaxy S23 Ultra 5G (Green, 12GB, 256G...   \n",
       "302  Samsung Galaxy S23 Ultra 5G (Green, 12GB, 256G...   \n",
       "303  Samsung Galaxy S23 Ultra 5G (Green, 12GB, 256G...   \n",
       "\n",
       "                                         date  \\\n",
       "0        Reviewed in India 🇮🇳 on 8 March 2023   \n",
       "1        Reviewed in India 🇮🇳 on 1 April 2023   \n",
       "2       Reviewed in India 🇮🇳 on 13 March 2023   \n",
       "3    Reviewed in India 🇮🇳 on 28 February 2023   \n",
       "4       Reviewed in India 🇮🇳 on 19 March 2023   \n",
       "..                                        ...   \n",
       "299  Reviewed in India 🇮🇳 on 28 February 2023   \n",
       "300     Reviewed in India 🇮🇳 on 19 March 2023   \n",
       "301     Reviewed in India 🇮🇳 on 24 March 2023   \n",
       "302      Reviewed in India 🇮🇳 on 7 March 2023   \n",
       "303     Reviewed in India 🇮🇳 on 17 March 2023   \n",
       "\n",
       "                                                 title  rating  \\\n",
       "0    True flagship performance and excellent overal...     4.0   \n",
       "1                                      Value for money     4.0   \n",
       "2                         I like it.. but not love it.     4.0   \n",
       "3                                    The perfect beast     5.0   \n",
       "4         Best compact phone with all premium features     4.0   \n",
       "..                                                 ...     ...   \n",
       "299                                  The perfect beast     5.0   \n",
       "300       Best compact phone with all premium features     4.0   \n",
       "301  Product was good,  but amazon service was wors...     4.0   \n",
       "302                                          Awesome 😎     4.0   \n",
       "303                                     Phone is great     4.0   \n",
       "\n",
       "                                                  body  \n",
       "0    The media could not be loaded.\\n              ...  \n",
       "1    Best picture qualityFast charging missing\\nRea...  \n",
       "2    I bought it a week ago.. i upgraded  from my o...  \n",
       "3    This phone is a pefect upgrade from my old One...  \n",
       "4    Phone does the job, with all the features work...  \n",
       "..                                                 ...  \n",
       "299  This phone is a pefect upgrade from my old One...  \n",
       "300  Phone does the job, with all the features work...  \n",
       "301  Product was good,  but amazon service was wors...  \n",
       "302  Pros: excellent look and feel , I've always wa...  \n",
       "303  Phone is great with performance but battery li...  \n",
       "\n",
       "[304 rows x 5 columns]"
      ]
     },
     "execution_count": 73,
     "metadata": {},
     "output_type": "execute_result"
    }
   ],
   "source": [
    "# Save results to a dataframe, then export as CSV\n",
    "df = pd.DataFrame(reviewlist)\n",
    "df"
   ]
  },
  {
   "cell_type": "code",
   "execution_count": 74,
   "id": "74be7dc4",
   "metadata": {},
   "outputs": [],
   "source": [
    "df.to_csv(\"Amazon_Reviews.csv\")"
   ]
  },
  {
   "cell_type": "code",
   "execution_count": 1,
   "id": "3f9d975c",
   "metadata": {},
   "outputs": [],
   "source": [
    "#load the libraries\n",
    "import pandas as pd\n",
    "import numpy as np\n",
    "import seaborn as sns\n",
    "from matplotlib import pyplot as plt\n",
    "import re \n",
    "import nltk\n",
    "from nltk.corpus import stopwords\n",
    "from wordcloud import WordCloud,STOPWORDS\n",
    "import warnings\n",
    "warnings.filterwarnings('ignore')"
   ]
  },
  {
   "cell_type": "code",
   "execution_count": 2,
   "id": "b8277dd6",
   "metadata": {},
   "outputs": [
    {
     "data": {
      "text/html": [
       "<div>\n",
       "<style scoped>\n",
       "    .dataframe tbody tr th:only-of-type {\n",
       "        vertical-align: middle;\n",
       "    }\n",
       "\n",
       "    .dataframe tbody tr th {\n",
       "        vertical-align: top;\n",
       "    }\n",
       "\n",
       "    .dataframe thead th {\n",
       "        text-align: right;\n",
       "    }\n",
       "</style>\n",
       "<table border=\"1\" class=\"dataframe\">\n",
       "  <thead>\n",
       "    <tr style=\"text-align: right;\">\n",
       "      <th></th>\n",
       "      <th>product</th>\n",
       "      <th>date</th>\n",
       "      <th>title</th>\n",
       "      <th>rating</th>\n",
       "      <th>body</th>\n",
       "    </tr>\n",
       "  </thead>\n",
       "  <tbody>\n",
       "    <tr>\n",
       "      <th>0</th>\n",
       "      <td>Samsung Galaxy S23 Ultra 5G (Green, 12GB, 256G...</td>\n",
       "      <td>Reviewed in India 🇮🇳 on 8 March 2023</td>\n",
       "      <td>True flagship performance and excellent overal...</td>\n",
       "      <td>4.0</td>\n",
       "      <td>The media could not be loaded.\\n              ...</td>\n",
       "    </tr>\n",
       "    <tr>\n",
       "      <th>1</th>\n",
       "      <td>Samsung Galaxy S23 Ultra 5G (Green, 12GB, 256G...</td>\n",
       "      <td>Reviewed in India 🇮🇳 on 1 April 2023</td>\n",
       "      <td>Value for money</td>\n",
       "      <td>4.0</td>\n",
       "      <td>Best picture qualityFast charging missing\\nRea...</td>\n",
       "    </tr>\n",
       "    <tr>\n",
       "      <th>2</th>\n",
       "      <td>Samsung Galaxy S23 Ultra 5G (Green, 12GB, 256G...</td>\n",
       "      <td>Reviewed in India 🇮🇳 on 13 March 2023</td>\n",
       "      <td>I like it.. but not love it.</td>\n",
       "      <td>4.0</td>\n",
       "      <td>I bought it a week ago.. i upgraded  from my o...</td>\n",
       "    </tr>\n",
       "    <tr>\n",
       "      <th>3</th>\n",
       "      <td>Samsung Galaxy S23 Ultra 5G (Green, 12GB, 256G...</td>\n",
       "      <td>Reviewed in India 🇮🇳 on 28 February 2023</td>\n",
       "      <td>The perfect beast</td>\n",
       "      <td>5.0</td>\n",
       "      <td>This phone is a pefect upgrade from my old One...</td>\n",
       "    </tr>\n",
       "    <tr>\n",
       "      <th>4</th>\n",
       "      <td>Samsung Galaxy S23 Ultra 5G (Green, 12GB, 256G...</td>\n",
       "      <td>Reviewed in India 🇮🇳 on 19 March 2023</td>\n",
       "      <td>Best compact phone with all premium features</td>\n",
       "      <td>4.0</td>\n",
       "      <td>Phone does the job, with all the features work...</td>\n",
       "    </tr>\n",
       "    <tr>\n",
       "      <th>...</th>\n",
       "      <td>...</td>\n",
       "      <td>...</td>\n",
       "      <td>...</td>\n",
       "      <td>...</td>\n",
       "      <td>...</td>\n",
       "    </tr>\n",
       "    <tr>\n",
       "      <th>299</th>\n",
       "      <td>Samsung Galaxy S23 Ultra 5G (Green, 12GB, 256G...</td>\n",
       "      <td>Reviewed in India 🇮🇳 on 28 February 2023</td>\n",
       "      <td>The perfect beast</td>\n",
       "      <td>5.0</td>\n",
       "      <td>This phone is a pefect upgrade from my old One...</td>\n",
       "    </tr>\n",
       "    <tr>\n",
       "      <th>300</th>\n",
       "      <td>Samsung Galaxy S23 Ultra 5G (Green, 12GB, 256G...</td>\n",
       "      <td>Reviewed in India 🇮🇳 on 19 March 2023</td>\n",
       "      <td>Best compact phone with all premium features</td>\n",
       "      <td>4.0</td>\n",
       "      <td>Phone does the job, with all the features work...</td>\n",
       "    </tr>\n",
       "    <tr>\n",
       "      <th>301</th>\n",
       "      <td>Samsung Galaxy S23 Ultra 5G (Green, 12GB, 256G...</td>\n",
       "      <td>Reviewed in India 🇮🇳 on 24 March 2023</td>\n",
       "      <td>Product was good,  but amazon service was wors...</td>\n",
       "      <td>4.0</td>\n",
       "      <td>Product was good,  but amazon service was wors...</td>\n",
       "    </tr>\n",
       "    <tr>\n",
       "      <th>302</th>\n",
       "      <td>Samsung Galaxy S23 Ultra 5G (Green, 12GB, 256G...</td>\n",
       "      <td>Reviewed in India 🇮🇳 on 7 March 2023</td>\n",
       "      <td>Awesome 😎</td>\n",
       "      <td>4.0</td>\n",
       "      <td>Pros: excellent look and feel , I've always wa...</td>\n",
       "    </tr>\n",
       "    <tr>\n",
       "      <th>303</th>\n",
       "      <td>Samsung Galaxy S23 Ultra 5G (Green, 12GB, 256G...</td>\n",
       "      <td>Reviewed in India 🇮🇳 on 17 March 2023</td>\n",
       "      <td>Phone is great</td>\n",
       "      <td>4.0</td>\n",
       "      <td>Phone is great with performance but battery li...</td>\n",
       "    </tr>\n",
       "  </tbody>\n",
       "</table>\n",
       "<p>304 rows × 5 columns</p>\n",
       "</div>"
      ],
      "text/plain": [
       "                                               product  \\\n",
       "0    Samsung Galaxy S23 Ultra 5G (Green, 12GB, 256G...   \n",
       "1    Samsung Galaxy S23 Ultra 5G (Green, 12GB, 256G...   \n",
       "2    Samsung Galaxy S23 Ultra 5G (Green, 12GB, 256G...   \n",
       "3    Samsung Galaxy S23 Ultra 5G (Green, 12GB, 256G...   \n",
       "4    Samsung Galaxy S23 Ultra 5G (Green, 12GB, 256G...   \n",
       "..                                                 ...   \n",
       "299  Samsung Galaxy S23 Ultra 5G (Green, 12GB, 256G...   \n",
       "300  Samsung Galaxy S23 Ultra 5G (Green, 12GB, 256G...   \n",
       "301  Samsung Galaxy S23 Ultra 5G (Green, 12GB, 256G...   \n",
       "302  Samsung Galaxy S23 Ultra 5G (Green, 12GB, 256G...   \n",
       "303  Samsung Galaxy S23 Ultra 5G (Green, 12GB, 256G...   \n",
       "\n",
       "                                         date  \\\n",
       "0        Reviewed in India 🇮🇳 on 8 March 2023   \n",
       "1        Reviewed in India 🇮🇳 on 1 April 2023   \n",
       "2       Reviewed in India 🇮🇳 on 13 March 2023   \n",
       "3    Reviewed in India 🇮🇳 on 28 February 2023   \n",
       "4       Reviewed in India 🇮🇳 on 19 March 2023   \n",
       "..                                        ...   \n",
       "299  Reviewed in India 🇮🇳 on 28 February 2023   \n",
       "300     Reviewed in India 🇮🇳 on 19 March 2023   \n",
       "301     Reviewed in India 🇮🇳 on 24 March 2023   \n",
       "302      Reviewed in India 🇮🇳 on 7 March 2023   \n",
       "303     Reviewed in India 🇮🇳 on 17 March 2023   \n",
       "\n",
       "                                                 title  rating  \\\n",
       "0    True flagship performance and excellent overal...     4.0   \n",
       "1                                      Value for money     4.0   \n",
       "2                         I like it.. but not love it.     4.0   \n",
       "3                                    The perfect beast     5.0   \n",
       "4         Best compact phone with all premium features     4.0   \n",
       "..                                                 ...     ...   \n",
       "299                                  The perfect beast     5.0   \n",
       "300       Best compact phone with all premium features     4.0   \n",
       "301  Product was good,  but amazon service was wors...     4.0   \n",
       "302                                          Awesome 😎     4.0   \n",
       "303                                     Phone is great     4.0   \n",
       "\n",
       "                                                  body  \n",
       "0    The media could not be loaded.\\n              ...  \n",
       "1    Best picture qualityFast charging missing\\nRea...  \n",
       "2    I bought it a week ago.. i upgraded  from my o...  \n",
       "3    This phone is a pefect upgrade from my old One...  \n",
       "4    Phone does the job, with all the features work...  \n",
       "..                                                 ...  \n",
       "299  This phone is a pefect upgrade from my old One...  \n",
       "300  Phone does the job, with all the features work...  \n",
       "301  Product was good,  but amazon service was wors...  \n",
       "302  Pros: excellent look and feel , I've always wa...  \n",
       "303  Phone is great with performance but battery li...  \n",
       "\n",
       "[304 rows x 5 columns]"
      ]
     },
     "execution_count": 2,
     "metadata": {},
     "output_type": "execute_result"
    }
   ],
   "source": [
    "# load the dataset\n",
    "reviews=pd.read_csv(\"Amazon_Reviews.csv\")\n",
    "reviews.drop(['Unnamed: 0'],inplace=True,axis=1)\n",
    "reviews"
   ]
  },
  {
   "cell_type": "code",
   "execution_count": 3,
   "id": "8c174fa4",
   "metadata": {},
   "outputs": [
    {
     "name": "stdout",
     "output_type": "stream",
     "text": [
      "<class 'pandas.core.frame.DataFrame'>\n",
      "RangeIndex: 304 entries, 0 to 303\n",
      "Data columns (total 5 columns):\n",
      " #   Column   Non-Null Count  Dtype  \n",
      "---  ------   --------------  -----  \n",
      " 0   product  304 non-null    object \n",
      " 1   date     304 non-null    object \n",
      " 2   title    304 non-null    object \n",
      " 3   rating   304 non-null    float64\n",
      " 4   body     304 non-null    object \n",
      "dtypes: float64(1), object(4)\n",
      "memory usage: 12.0+ KB\n"
     ]
    }
   ],
   "source": [
    "reviews.info()"
   ]
  },
  {
   "cell_type": "code",
   "execution_count": 4,
   "id": "a482abbc",
   "metadata": {},
   "outputs": [],
   "source": [
    "#Cleaning up the Dates and making a seperate columns for country\n",
    "reviews.date = reviews.date.apply(lambda x : x.replace('Reviewed in ',''))\n",
    "reviews.date = reviews.date.apply(lambda x : re.sub(r\"on \", \"\", x))\n",
    "\n",
    "# for Country\n",
    "reviews[\"country\"] = reviews.date.apply(lambda x : x.split(' ',1)[0])\n",
    "\n",
    "#splitting date\n",
    "reviews.date = reviews.date.apply(lambda x : x.split(' ',1)[1])"
   ]
  },
  {
   "cell_type": "code",
   "execution_count": 6,
   "id": "c79df4a7",
   "metadata": {},
   "outputs": [
    {
     "data": {
      "text/html": [
       "<div>\n",
       "<style scoped>\n",
       "    .dataframe tbody tr th:only-of-type {\n",
       "        vertical-align: middle;\n",
       "    }\n",
       "\n",
       "    .dataframe tbody tr th {\n",
       "        vertical-align: top;\n",
       "    }\n",
       "\n",
       "    .dataframe thead th {\n",
       "        text-align: right;\n",
       "    }\n",
       "</style>\n",
       "<table border=\"1\" class=\"dataframe\">\n",
       "  <thead>\n",
       "    <tr style=\"text-align: right;\">\n",
       "      <th></th>\n",
       "      <th>date</th>\n",
       "      <th>title</th>\n",
       "      <th>rating</th>\n",
       "      <th>country</th>\n",
       "    </tr>\n",
       "  </thead>\n",
       "  <tbody>\n",
       "    <tr>\n",
       "      <th>0</th>\n",
       "      <td>🇮🇳 8 March 2023</td>\n",
       "      <td>True flagship performance and excellent overal...</td>\n",
       "      <td>4.0</td>\n",
       "      <td>India</td>\n",
       "    </tr>\n",
       "    <tr>\n",
       "      <th>1</th>\n",
       "      <td>🇮🇳 1 April 2023</td>\n",
       "      <td>Value for money</td>\n",
       "      <td>4.0</td>\n",
       "      <td>India</td>\n",
       "    </tr>\n",
       "    <tr>\n",
       "      <th>2</th>\n",
       "      <td>🇮🇳 13 March 2023</td>\n",
       "      <td>I like it.. but not love it.</td>\n",
       "      <td>4.0</td>\n",
       "      <td>India</td>\n",
       "    </tr>\n",
       "    <tr>\n",
       "      <th>3</th>\n",
       "      <td>🇮🇳 28 February 2023</td>\n",
       "      <td>The perfect beast</td>\n",
       "      <td>5.0</td>\n",
       "      <td>India</td>\n",
       "    </tr>\n",
       "    <tr>\n",
       "      <th>4</th>\n",
       "      <td>🇮🇳 19 March 2023</td>\n",
       "      <td>Best compact phone with all premium features</td>\n",
       "      <td>4.0</td>\n",
       "      <td>India</td>\n",
       "    </tr>\n",
       "    <tr>\n",
       "      <th>...</th>\n",
       "      <td>...</td>\n",
       "      <td>...</td>\n",
       "      <td>...</td>\n",
       "      <td>...</td>\n",
       "    </tr>\n",
       "    <tr>\n",
       "      <th>299</th>\n",
       "      <td>🇮🇳 28 February 2023</td>\n",
       "      <td>The perfect beast</td>\n",
       "      <td>5.0</td>\n",
       "      <td>India</td>\n",
       "    </tr>\n",
       "    <tr>\n",
       "      <th>300</th>\n",
       "      <td>🇮🇳 19 March 2023</td>\n",
       "      <td>Best compact phone with all premium features</td>\n",
       "      <td>4.0</td>\n",
       "      <td>India</td>\n",
       "    </tr>\n",
       "    <tr>\n",
       "      <th>301</th>\n",
       "      <td>🇮🇳 24 March 2023</td>\n",
       "      <td>Product was good,  but amazon service was wors...</td>\n",
       "      <td>4.0</td>\n",
       "      <td>India</td>\n",
       "    </tr>\n",
       "    <tr>\n",
       "      <th>302</th>\n",
       "      <td>🇮🇳 7 March 2023</td>\n",
       "      <td>Awesome 😎</td>\n",
       "      <td>4.0</td>\n",
       "      <td>India</td>\n",
       "    </tr>\n",
       "    <tr>\n",
       "      <th>303</th>\n",
       "      <td>🇮🇳 17 March 2023</td>\n",
       "      <td>Phone is great</td>\n",
       "      <td>4.0</td>\n",
       "      <td>India</td>\n",
       "    </tr>\n",
       "  </tbody>\n",
       "</table>\n",
       "<p>304 rows × 4 columns</p>\n",
       "</div>"
      ],
      "text/plain": [
       "                    date                                              title  \\\n",
       "0        🇮🇳 8 March 2023  True flagship performance and excellent overal...   \n",
       "1        🇮🇳 1 April 2023                                    Value for money   \n",
       "2       🇮🇳 13 March 2023                       I like it.. but not love it.   \n",
       "3    🇮🇳 28 February 2023                                  The perfect beast   \n",
       "4       🇮🇳 19 March 2023       Best compact phone with all premium features   \n",
       "..                   ...                                                ...   \n",
       "299  🇮🇳 28 February 2023                                  The perfect beast   \n",
       "300     🇮🇳 19 March 2023       Best compact phone with all premium features   \n",
       "301     🇮🇳 24 March 2023  Product was good,  but amazon service was wors...   \n",
       "302      🇮🇳 7 March 2023                                          Awesome 😎   \n",
       "303     🇮🇳 17 March 2023                                     Phone is great   \n",
       "\n",
       "     rating country  \n",
       "0       4.0   India  \n",
       "1       4.0   India  \n",
       "2       4.0   India  \n",
       "3       5.0   India  \n",
       "4       4.0   India  \n",
       "..      ...     ...  \n",
       "299     5.0   India  \n",
       "300     4.0   India  \n",
       "301     4.0   India  \n",
       "302     4.0   India  \n",
       "303     4.0   India  \n",
       "\n",
       "[304 rows x 4 columns]"
      ]
     },
     "execution_count": 6,
     "metadata": {},
     "output_type": "execute_result"
    }
   ],
   "source": [
    "reviews1 = reviews.copy() #we do not need content and name so we can remove it\n",
    "reviews1=reviews1.drop(['product','body'],axis=1)\n",
    "reviews1 #We can perform "
   ]
  },
  {
   "cell_type": "markdown",
   "id": "74a86d99",
   "metadata": {},
   "source": [
    "# Remove StopWords"
   ]
  },
  {
   "cell_type": "code",
   "execution_count": 7,
   "id": "c83af264",
   "metadata": {},
   "outputs": [
    {
     "data": {
      "text/html": [
       "<div>\n",
       "<style scoped>\n",
       "    .dataframe tbody tr th:only-of-type {\n",
       "        vertical-align: middle;\n",
       "    }\n",
       "\n",
       "    .dataframe tbody tr th {\n",
       "        vertical-align: top;\n",
       "    }\n",
       "\n",
       "    .dataframe thead th {\n",
       "        text-align: right;\n",
       "    }\n",
       "</style>\n",
       "<table border=\"1\" class=\"dataframe\">\n",
       "  <thead>\n",
       "    <tr style=\"text-align: right;\">\n",
       "      <th></th>\n",
       "      <th>date</th>\n",
       "      <th>title</th>\n",
       "      <th>rating</th>\n",
       "      <th>country</th>\n",
       "    </tr>\n",
       "  </thead>\n",
       "  <tbody>\n",
       "    <tr>\n",
       "      <th>0</th>\n",
       "      <td>🇮🇳 8 March 2023</td>\n",
       "      <td>True flagship performance excellent overall (h...</td>\n",
       "      <td>4.0</td>\n",
       "      <td>India</td>\n",
       "    </tr>\n",
       "    <tr>\n",
       "      <th>1</th>\n",
       "      <td>🇮🇳 1 April 2023</td>\n",
       "      <td>Value money</td>\n",
       "      <td>4.0</td>\n",
       "      <td>India</td>\n",
       "    </tr>\n",
       "    <tr>\n",
       "      <th>2</th>\n",
       "      <td>🇮🇳 13 March 2023</td>\n",
       "      <td>I it.. love it.</td>\n",
       "      <td>4.0</td>\n",
       "      <td>India</td>\n",
       "    </tr>\n",
       "    <tr>\n",
       "      <th>3</th>\n",
       "      <td>🇮🇳 28 February 2023</td>\n",
       "      <td>The perfect beast</td>\n",
       "      <td>5.0</td>\n",
       "      <td>India</td>\n",
       "    </tr>\n",
       "    <tr>\n",
       "      <th>4</th>\n",
       "      <td>🇮🇳 19 March 2023</td>\n",
       "      <td>Best compact phone premium features</td>\n",
       "      <td>4.0</td>\n",
       "      <td>India</td>\n",
       "    </tr>\n",
       "  </tbody>\n",
       "</table>\n",
       "</div>"
      ],
      "text/plain": [
       "                  date                                              title  \\\n",
       "0      🇮🇳 8 March 2023  True flagship performance excellent overall (h...   \n",
       "1      🇮🇳 1 April 2023                                        Value money   \n",
       "2     🇮🇳 13 March 2023                                    I it.. love it.   \n",
       "3  🇮🇳 28 February 2023                                  The perfect beast   \n",
       "4     🇮🇳 19 March 2023                Best compact phone premium features   \n",
       "\n",
       "   rating country  \n",
       "0     4.0   India  \n",
       "1     4.0   India  \n",
       "2     4.0   India  \n",
       "3     5.0   India  \n",
       "4     4.0   India  "
      ]
     },
     "execution_count": 7,
     "metadata": {},
     "output_type": "execute_result"
    }
   ],
   "source": [
    "reviews1.title = reviews1.title.apply(lambda x: ' '.join([word for word in x.split() if word not in (STOPWORDS)]))\n",
    "reviews1.head() #No need to perform stemming or lematization as titles are almost small and short"
   ]
  },
  {
   "cell_type": "markdown",
   "id": "0a2f74ea",
   "metadata": {},
   "source": [
    "# Product Sentiment Values"
   ]
  },
  {
   "cell_type": "code",
   "execution_count": 8,
   "id": "526c934a",
   "metadata": {},
   "outputs": [
    {
     "name": "stderr",
     "output_type": "stream",
     "text": [
      "[nltk_data] Downloading package vader_lexicon to C:\\Users\\Anup\n",
      "[nltk_data]     sharma\\AppData\\Roaming\\nltk_data...\n",
      "[nltk_data]   Package vader_lexicon is already up-to-date!\n"
     ]
    },
    {
     "data": {
      "text/plain": [
       "True"
      ]
     },
     "execution_count": 8,
     "metadata": {},
     "output_type": "execute_result"
    }
   ],
   "source": [
    "import nltk\n",
    "nltk.download('vader_lexicon')"
   ]
  },
  {
   "cell_type": "code",
   "execution_count": 9,
   "id": "1087692c",
   "metadata": {},
   "outputs": [],
   "source": [
    "from nltk.sentiment.vader import SentimentIntensityAnalyzer\n",
    "sentialz = SentimentIntensityAnalyzer()"
   ]
  },
  {
   "cell_type": "code",
   "execution_count": 10,
   "id": "bf589408",
   "metadata": {},
   "outputs": [
    {
     "data": {
      "text/plain": [
       "{'neg': 0.442, 'neu': 0.388, 'pos': 0.17, 'compound': -0.5862}"
      ]
     },
     "execution_count": 10,
     "metadata": {},
     "output_type": "execute_result"
    }
   ],
   "source": [
    "sentialz.polarity_scores(reviews.title.iloc[2])"
   ]
  },
  {
   "cell_type": "code",
   "execution_count": 11,
   "id": "ca60800e",
   "metadata": {},
   "outputs": [],
   "source": [
    "#Function to retrieve sentiment class\n",
    "def get_senti_class(review): \n",
    "    analysis = sentialz.polarity_scores(review)\n",
    "    # set sentiment \n",
    "    if analysis[\"compound\"] > 0: \n",
    "        return 'positive'\n",
    "    elif analysis[\"compound\"] < 0: \n",
    "        return 'negative'\n",
    "    \n",
    "def get_sentiment(review):\n",
    "    return pd.Series([sentialz.polarity_scores(review),get_senti_class(review)])"
   ]
  },
  {
   "cell_type": "code",
   "execution_count": 12,
   "id": "722153df",
   "metadata": {},
   "outputs": [
    {
     "data": {
      "text/html": [
       "<div>\n",
       "<style scoped>\n",
       "    .dataframe tbody tr th:only-of-type {\n",
       "        vertical-align: middle;\n",
       "    }\n",
       "\n",
       "    .dataframe tbody tr th {\n",
       "        vertical-align: top;\n",
       "    }\n",
       "\n",
       "    .dataframe thead th {\n",
       "        text-align: right;\n",
       "    }\n",
       "</style>\n",
       "<table border=\"1\" class=\"dataframe\">\n",
       "  <thead>\n",
       "    <tr style=\"text-align: right;\">\n",
       "      <th></th>\n",
       "      <th>date</th>\n",
       "      <th>title</th>\n",
       "      <th>rating</th>\n",
       "      <th>country</th>\n",
       "      <th>Scores</th>\n",
       "      <th>Sentiment</th>\n",
       "    </tr>\n",
       "  </thead>\n",
       "  <tbody>\n",
       "    <tr>\n",
       "      <th>0</th>\n",
       "      <td>🇮🇳 8 March 2023</td>\n",
       "      <td>True flagship performance excellent overall (h...</td>\n",
       "      <td>4.0</td>\n",
       "      <td>India</td>\n",
       "      <td>{'neg': 0.0, 'neu': 0.388, 'pos': 0.612, 'comp...</td>\n",
       "      <td>positive</td>\n",
       "    </tr>\n",
       "    <tr>\n",
       "      <th>1</th>\n",
       "      <td>🇮🇳 1 April 2023</td>\n",
       "      <td>Value money</td>\n",
       "      <td>4.0</td>\n",
       "      <td>India</td>\n",
       "      <td>{'neg': 0.0, 'neu': 0.294, 'pos': 0.706, 'comp...</td>\n",
       "      <td>positive</td>\n",
       "    </tr>\n",
       "    <tr>\n",
       "      <th>2</th>\n",
       "      <td>🇮🇳 13 March 2023</td>\n",
       "      <td>I it.. love it.</td>\n",
       "      <td>4.0</td>\n",
       "      <td>India</td>\n",
       "      <td>{'neg': 0.0, 'neu': 0.323, 'pos': 0.677, 'comp...</td>\n",
       "      <td>positive</td>\n",
       "    </tr>\n",
       "    <tr>\n",
       "      <th>3</th>\n",
       "      <td>🇮🇳 28 February 2023</td>\n",
       "      <td>The perfect beast</td>\n",
       "      <td>5.0</td>\n",
       "      <td>India</td>\n",
       "      <td>{'neg': 0.0, 'neu': 0.351, 'pos': 0.649, 'comp...</td>\n",
       "      <td>positive</td>\n",
       "    </tr>\n",
       "    <tr>\n",
       "      <th>4</th>\n",
       "      <td>🇮🇳 19 March 2023</td>\n",
       "      <td>Best compact phone premium features</td>\n",
       "      <td>4.0</td>\n",
       "      <td>India</td>\n",
       "      <td>{'neg': 0.0, 'neu': 0.488, 'pos': 0.512, 'comp...</td>\n",
       "      <td>positive</td>\n",
       "    </tr>\n",
       "    <tr>\n",
       "      <th>...</th>\n",
       "      <td>...</td>\n",
       "      <td>...</td>\n",
       "      <td>...</td>\n",
       "      <td>...</td>\n",
       "      <td>...</td>\n",
       "      <td>...</td>\n",
       "    </tr>\n",
       "    <tr>\n",
       "      <th>299</th>\n",
       "      <td>🇮🇳 28 February 2023</td>\n",
       "      <td>The perfect beast</td>\n",
       "      <td>5.0</td>\n",
       "      <td>India</td>\n",
       "      <td>{'neg': 0.0, 'neu': 0.351, 'pos': 0.649, 'comp...</td>\n",
       "      <td>positive</td>\n",
       "    </tr>\n",
       "    <tr>\n",
       "      <th>300</th>\n",
       "      <td>🇮🇳 19 March 2023</td>\n",
       "      <td>Best compact phone premium features</td>\n",
       "      <td>4.0</td>\n",
       "      <td>India</td>\n",
       "      <td>{'neg': 0.0, 'neu': 0.488, 'pos': 0.512, 'comp...</td>\n",
       "      <td>positive</td>\n",
       "    </tr>\n",
       "    <tr>\n",
       "      <th>301</th>\n",
       "      <td>🇮🇳 24 March 2023</td>\n",
       "      <td>Product good, amazon service worst worst ever.</td>\n",
       "      <td>4.0</td>\n",
       "      <td>India</td>\n",
       "      <td>{'neg': 0.519, 'neu': 0.19, 'pos': 0.291, 'com...</td>\n",
       "      <td>negative</td>\n",
       "    </tr>\n",
       "    <tr>\n",
       "      <th>302</th>\n",
       "      <td>🇮🇳 7 March 2023</td>\n",
       "      <td>Awesome 😎</td>\n",
       "      <td>4.0</td>\n",
       "      <td>India</td>\n",
       "      <td>{'neg': 0.0, 'neu': 0.0, 'pos': 1.0, 'compound...</td>\n",
       "      <td>positive</td>\n",
       "    </tr>\n",
       "    <tr>\n",
       "      <th>303</th>\n",
       "      <td>🇮🇳 17 March 2023</td>\n",
       "      <td>Phone great</td>\n",
       "      <td>4.0</td>\n",
       "      <td>India</td>\n",
       "      <td>{'neg': 0.0, 'neu': 0.196, 'pos': 0.804, 'comp...</td>\n",
       "      <td>positive</td>\n",
       "    </tr>\n",
       "  </tbody>\n",
       "</table>\n",
       "<p>304 rows × 6 columns</p>\n",
       "</div>"
      ],
      "text/plain": [
       "                    date                                              title  \\\n",
       "0        🇮🇳 8 March 2023  True flagship performance excellent overall (h...   \n",
       "1        🇮🇳 1 April 2023                                        Value money   \n",
       "2       🇮🇳 13 March 2023                                    I it.. love it.   \n",
       "3    🇮🇳 28 February 2023                                  The perfect beast   \n",
       "4       🇮🇳 19 March 2023                Best compact phone premium features   \n",
       "..                   ...                                                ...   \n",
       "299  🇮🇳 28 February 2023                                  The perfect beast   \n",
       "300     🇮🇳 19 March 2023                Best compact phone premium features   \n",
       "301     🇮🇳 24 March 2023     Product good, amazon service worst worst ever.   \n",
       "302      🇮🇳 7 March 2023                                          Awesome 😎   \n",
       "303     🇮🇳 17 March 2023                                        Phone great   \n",
       "\n",
       "     rating country                                             Scores  \\\n",
       "0       4.0   India  {'neg': 0.0, 'neu': 0.388, 'pos': 0.612, 'comp...   \n",
       "1       4.0   India  {'neg': 0.0, 'neu': 0.294, 'pos': 0.706, 'comp...   \n",
       "2       4.0   India  {'neg': 0.0, 'neu': 0.323, 'pos': 0.677, 'comp...   \n",
       "3       5.0   India  {'neg': 0.0, 'neu': 0.351, 'pos': 0.649, 'comp...   \n",
       "4       4.0   India  {'neg': 0.0, 'neu': 0.488, 'pos': 0.512, 'comp...   \n",
       "..      ...     ...                                                ...   \n",
       "299     5.0   India  {'neg': 0.0, 'neu': 0.351, 'pos': 0.649, 'comp...   \n",
       "300     4.0   India  {'neg': 0.0, 'neu': 0.488, 'pos': 0.512, 'comp...   \n",
       "301     4.0   India  {'neg': 0.519, 'neu': 0.19, 'pos': 0.291, 'com...   \n",
       "302     4.0   India  {'neg': 0.0, 'neu': 0.0, 'pos': 1.0, 'compound...   \n",
       "303     4.0   India  {'neg': 0.0, 'neu': 0.196, 'pos': 0.804, 'comp...   \n",
       "\n",
       "    Sentiment  \n",
       "0    positive  \n",
       "1    positive  \n",
       "2    positive  \n",
       "3    positive  \n",
       "4    positive  \n",
       "..        ...  \n",
       "299  positive  \n",
       "300  positive  \n",
       "301  negative  \n",
       "302  positive  \n",
       "303  positive  \n",
       "\n",
       "[304 rows x 6 columns]"
      ]
     },
     "execution_count": 12,
     "metadata": {},
     "output_type": "execute_result"
    }
   ],
   "source": [
    "#Applying function to all tweets\n",
    "reviews1[[\"Scores\", \"Sentiment\"]] = reviews1.title.apply(get_sentiment)\n",
    "reviews1"
   ]
  },
  {
   "cell_type": "markdown",
   "id": "1c0c9c7f",
   "metadata": {},
   "source": [
    "# Emotion Mining"
   ]
  },
  {
   "cell_type": "code",
   "execution_count": 13,
   "id": "9aff0f45",
   "metadata": {},
   "outputs": [
    {
     "data": {
      "text/plain": [
       "positive    266\n",
       "negative     38\n",
       "Name: Sentiment, dtype: int64"
      ]
     },
     "execution_count": 13,
     "metadata": {},
     "output_type": "execute_result"
    }
   ],
   "source": [
    "reviews1.Sentiment.value_counts()"
   ]
  },
  {
   "cell_type": "code",
   "execution_count": 14,
   "id": "f9d810e1",
   "metadata": {},
   "outputs": [
    {
     "data": {
      "text/plain": [
       "<AxesSubplot:xlabel='Sentiment', ylabel='count'>"
      ]
     },
     "execution_count": 14,
     "metadata": {},
     "output_type": "execute_result"
    },
    {
     "data": {
      "image/png": "[encoded data removed]",
      "text/plain": [
       "<Figure size 432x288 with 1 Axes>"
      ]
     },
     "metadata": {
      "needs_background": "light"
     },
     "output_type": "display_data"
    }
   ],
   "source": [
    "sns.countplot(reviews1.Sentiment,palette='cool_r') "
   ]
  },
  {
   "cell_type": "code",
   "execution_count": 15,
   "id": "a70cd76a",
   "metadata": {},
   "outputs": [
    {
     "data": {
      "text/plain": [
       "4.0    38\n",
       "Name: rating, dtype: int64"
      ]
     },
     "execution_count": 15,
     "metadata": {},
     "output_type": "execute_result"
    }
   ],
   "source": [
    "reviews1.loc[reviews1.Sentiment=='negative'].rating.value_counts() \n",
    "#There are some negative comments with 4  stars which is flawed\n",
    "#Lets have a look at those values"
   ]
  },
  {
   "cell_type": "markdown",
   "id": "84ab9f1a",
   "metadata": {},
   "source": [
    "# Word Cloud"
   ]
  },
  {
   "cell_type": "code",
   "execution_count": 16,
   "id": "573e1086",
   "metadata": {},
   "outputs": [],
   "source": [
    "review_str = ' '.join(reviews1['title'].tolist()) "
   ]
  },
  {
   "cell_type": "code",
   "execution_count": 20,
   "id": "f9feba88",
   "metadata": {},
   "outputs": [
    {
     "data": {
      "image/png": "[encoded data removed]",
      "text/plain": [
       "<Figure size 600x900 with 1 Axes>"
      ]
     },
     "metadata": {
      "needs_background": "light"
     },
     "output_type": "display_data"
    }
   ],
   "source": [
    "#Creating a WordCloud\n",
    "from matplotlib.pyplot import figure\n",
    "wordcloud_ip = WordCloud(\n",
    "                      background_color=\"black\", max_words=500,\n",
    "               width=1800, height=1400).generate(review_str)\n",
    "figure(figsize=(2,3), dpi=300)\n",
    "plt.imshow(wordcloud_ip,interpolation=\"bilinear\")\n",
    "plt.axis(\"off\")\n",
    "plt.show()"
   ]
  },
  {
   "cell_type": "code",
   "execution_count": 18,
   "id": "f738a163",
   "metadata": {},
   "outputs": [],
   "source": [
    "# positive words # Choose the path for +ve words stored in system\n",
    "with open(\"positive-words.txt\",\"r\") as pos:\n",
    "  poswords = pos.read().split(\"\\n\")\n",
    "  \n",
    "\n",
    "# negative words  Choose path for -ve words stored in system\n",
    "with open(\"negative-words.txt\",\"r\") as neg:\n",
    "  negwords = neg.read().split(\"\\n\")"
   ]
  },
  {
   "cell_type": "code",
   "execution_count": 19,
   "id": "755baf53",
   "metadata": {},
   "outputs": [
    {
     "data": {
      "image/png": "[encoded data removed]",
      "text/plain": [
       "<Figure size 432x288 with 1 Axes>"
      ]
     },
     "metadata": {
      "needs_background": "light"
     },
     "output_type": "display_data"
    }
   ],
   "source": [
    "# negative word cloud\n",
    "# Choosing the only words which are present in negwords\n",
    "ip_neg_in_neg = \" \".join ([w for w in review_str.split() if w in negwords])\n",
    "wordcloud_neg_in_neg = WordCloud(\n",
    "                     background_color='black',\n",
    "                     width=1800,\n",
    "                     height=1400\n",
    "                    ).generate(ip_neg_in_neg)\n",
    "\n",
    "plt.imshow(wordcloud_neg_in_neg)\n",
    "plt.axis(\"off\")\n",
    "\n",
    "plt.show()"
   ]
  },
  {
   "cell_type": "code",
   "execution_count": 21,
   "id": "86c21ea2",
   "metadata": {},
   "outputs": [
    {
     "data": {
      "image/png": "[encoded data removed]",
      "text/plain": [
       "<Figure size 432x288 with 1 Axes>"
      ]
     },
     "metadata": {
      "needs_background": "light"
     },
     "output_type": "display_data"
    }
   ],
   "source": [
    "# Positive word cloud\n",
    "# Choosing the only words which are present in positive words\n",
    "ip_pos_in_pos = \" \".join ([w for w in review_str.split() if w in poswords])\n",
    "wordcloud_pos_in_pos = WordCloud(\n",
    "                     background_color='black',  width=1800,\n",
    "                      height=1400\n",
    "                     ).generate(ip_pos_in_pos)\n",
    "plt.imshow(wordcloud_pos_in_pos)\n",
    "plt.axis(\"off\")\n",
    "plt.show()"
   ]
  },
  {
   "cell_type": "markdown",
   "id": "b729d561",
   "metadata": {},
   "source": [
    "Conclusion:Perfomed Sentiment Analysis for a Samsung Phone.Cleaned data during preprocessing and removed stopwords.Developed word clouds for dataset and for positive and negative words."
   ]
  },
  {
   "cell_type": "code",
   "execution_count": null,
   "id": "2e13ec5a",
   "metadata": {},
   "outputs": [],
   "source": []
  }
 ],
 "metadata": {
  "kernelspec": {
   "display_name": "Python 3 (ipykernel)",
   "language": "python",
   "name": "python3"
  },
  "language_info": {
   "codemirror_mode": {
    "name": "ipython",
    "version": 3
   },
   "file_extension": ".py",
   "mimetype": "text/x-python",
   "name": "python",
   "nbconvert_exporter": "python",
   "pygments_lexer": "ipython3",
   "version": "3.9.13"
  }
 },
 "nbformat": 4,
 "nbformat_minor": 5
}
